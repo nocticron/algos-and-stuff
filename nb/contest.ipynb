{
 "cells": [
  {
   "cell_type": "markdown",
   "id": "purple-burton",
   "metadata": {},
   "source": [
    "[Стажировка 2021 - бэкенд](https://contest.yandex.ru/contest/22625/)"
   ]
  },
  {
   "cell_type": "markdown",
   "id": "formed-american",
   "metadata": {},
   "source": [
    "### Table:\n",
    "- [A. Андрей и кислота](#A.-Андрей-и-кислота)\n",
    "- [B. Посадка в самолет](#B.-Посадка-в-самолет)\n",
    "- [C. Расстояние](#C.-Расстояние)\n",
    "- [D. Посчитать графы](#D.-Посчитать-графы)"
   ]
  },
  {
   "cell_type": "markdown",
   "id": "intensive-invalid",
   "metadata": {},
   "source": [
    "### A. Андрей и кислота\n",
    "Андрей работает в секретной химической лаборатории, в которой производят опасную кислоту с удивительными свойствами. У Андрея есть $n$ бесконечно больших резервуаров, расположенных в один ряд. Изначально в каждом резервуаре находится некоторое количество кислоты. Начальство Андрея требует, чтобы во всех резервуарах содержался одинаковый объем кислоты. К сожалению, разливающий аппарат несовершенен. За одну операцию он способен разлить по одному литру кислоты в каждый из первых $k (1≤k≤n)$ резервуаров. \n",
    "\n",
    "Обратите внимание, что для разных операций $k$ могут быть разными. Поскольку кислота очень дорогая, Андрею не разрешается выпивать кислоту из резервуаров. Андрей просит вас узнать, можно ли уравнять объемы кислоты в резервуарах, и, если это возможно, то посчитать минимальное количество операций, которое потребуется, чтобы этого достичь. \n",
    "\n",
    "#### Формат ввода\n",
    "\n",
    "Первая строка содержит число $n$ — количество резервуаров. Во второй строке содержатся $n (1≤n≤100000)$ целых чисел $ai (1≤ai≤10^9)$, где $ai$ означает исходный объём кислоты в $i$-м резервуаре в литрах.\n",
    "\n",
    "#### TL\n",
    "2 секунды"
   ]
  },
  {
   "cell_type": "markdown",
   "id": "fallen-chaos",
   "metadata": {},
   "source": [
    "#### Решение\n",
    "Всё обламывается, если у нас в середине \"горка\" из кислот ($[1,1,1,2,1,1,1]$), а мы можем лить только слева направо первые $k$. То есть налить в 5-й и далее сосуд не наливая в первый и четвертый не выйдет. Вот это мы и контролируем. Шаги считаются простым вычитанием; если \"морское дно\" просело, нам нужно начать доливать, если не проседает, то на предыдущем шаге оно уже под кислотой. Поскольку $k$ льётся слева направо, то мы обходим справа налево."
   ]
  },
  {
   "cell_type": "code",
   "execution_count": 1,
   "id": "agreed-hampshire",
   "metadata": {},
   "outputs": [],
   "source": [
    "def solution(a):\n",
    "    if len(a)>0:\n",
    "        k = 0\n",
    "        for i in range(len(a)-1, 0, -1):\n",
    "            if a[i]<a[i-1]:\n",
    "                return -1\n",
    "            else:\n",
    "                k = k+a[i]-a[i-1]\n",
    "        return k\n",
    "    else:\n",
    "        # this is gonna let the solution down\n",
    "        # check later at this nb\n",
    "        return -1"
   ]
  },
  {
   "cell_type": "code",
   "execution_count": 2,
   "id": "digital-sailing",
   "metadata": {},
   "outputs": [
    {
     "data": {
      "text/plain": [
       "-1"
      ]
     },
     "execution_count": 2,
     "metadata": {},
     "output_type": "execute_result"
    }
   ],
   "source": [
    "solution([])"
   ]
  },
  {
   "cell_type": "code",
   "execution_count": 3,
   "id": "western-recovery",
   "metadata": {},
   "outputs": [
    {
     "data": {
      "text/plain": [
       "4"
      ]
     },
     "execution_count": 3,
     "metadata": {},
     "output_type": "execute_result"
    }
   ],
   "source": [
    "solution([1,1,5,5,5])"
   ]
  },
  {
   "cell_type": "code",
   "execution_count": 4,
   "id": "fitting-florist",
   "metadata": {},
   "outputs": [
    {
     "data": {
      "text/plain": [
       "-1"
      ]
     },
     "execution_count": 4,
     "metadata": {},
     "output_type": "execute_result"
    }
   ],
   "source": [
    "solution([3,2,1])"
   ]
  },
  {
   "cell_type": "code",
   "execution_count": 5,
   "id": "educational-reverse",
   "metadata": {},
   "outputs": [
    {
     "data": {
      "text/plain": [
       "6"
      ]
     },
     "execution_count": 5,
     "metadata": {},
     "output_type": "execute_result"
    }
   ],
   "source": [
    "solution([1,7])"
   ]
  },
  {
   "cell_type": "markdown",
   "id": "vulnerable-ownership",
   "metadata": {},
   "source": [
    "#### Fix: \n",
    "- по условию $n≥1$, \n",
    "- при $n=0$ нами отдавался ответ \"такое невозможно для задачи, $k=-1$\" (коренной `if`), а в проверочной системе ответ \"условие валидное и $k=0$\" (предполагаем, точно ошибку узнать нельзя),\n",
    "- выкинуты `alpha`, цикл `for` без потерь общности\n",
    "\n",
    "После фикса тесты ОК"
   ]
  },
  {
   "cell_type": "code",
   "execution_count": 6,
   "id": "dependent-differential",
   "metadata": {},
   "outputs": [
    {
     "data": {
      "text/plain": [
       "0"
      ]
     },
     "execution_count": 6,
     "metadata": {},
     "output_type": "execute_result"
    }
   ],
   "source": [
    "def solution(a,n):\n",
    "    k = 0\n",
    "    i = n-1\n",
    "    while i>0 and k!=-1:\n",
    "        if a[i]-a[i-1]<0:\n",
    "            k = -1\n",
    "        else:\n",
    "            k = k+a[i]-a[i-1]\n",
    "        i = i-1\n",
    "    return k\n",
    "# contest framework\n",
    "\"\"\"\n",
    "n = int(input().strip())\n",
    "a = list(map(int, input().strip().split(' ')))\n",
    "print(solution(a,n))\n",
    "\"\"\"\n",
    "solution([],0)"
   ]
  },
  {
   "cell_type": "markdown",
   "id": "refined-replacement",
   "metadata": {},
   "source": [
    "### B. Посадка в самолет\n",
    "В самолете $n$ рядов и по три кресла слева и справа в каждом ряду. Крайние кресла (A и F) находятся у окна, центральные (C и D) – у прохода. На регистрацию приходят группы из одного, двух или трех пассажиров. Они желают сидеть рядом, то есть на одном ряду и на одной стороне: левой или правой. Например, группа из двух пассажиров может сесть на кресла B и C, но не может сесть на кресла C и D, потому что они разделены проходом, а также не может сесть на кресла A и C, потому что тогда они окажутся не рядом. Кроме того, один из пассажиров каждой группы очень требовательный – он хочет сесть либо у окна, либо у прохода. Конечно же, каждая группа из пассажиров хочет занять места в ряду с как можно меньшим номером, ведь тогда они скорее выйдут из самолета после посадки. Для каждой группы пассажиров определите, есть ли места в самолете, подходящие для них. "
   ]
  },
  {
   "cell_type": "markdown",
   "id": "failing-vaccine",
   "metadata": {},
   "source": [
    "#### Формат ввода\n",
    "Первая строка содержит число $n (1≤n≤100)$ – количество рядов в самолете. Далее в $n$ строках вводится изначальная рассадка в самолете по рядам (от первого до $n$-го), где символами $.$ (точка) обозначены свободные места, символами $#$ (решетка) обозначены занятые места, а символами $_$ (нижнее подчеркивание) обозначен проход между креслами C и D каждого ряда.\n",
    "\n",
    "Следующая строка содержит число $m (1≤m≤100)$ – количество групп пассажиров. Далее в $m$ строках содержатся описания групп пассажиров. Формат описания такой: `num side position`, где $num$ – количество пассажиров (число 1, 2 или 3), $side$ – желаемая сторона самолета (строка left или right), $position$ – желаемое место требовательного пассажира (строка aisle или window).\n",
    "#### TL\n",
    "2 секунды"
   ]
  },
  {
   "cell_type": "markdown",
   "id": "elect-discussion",
   "metadata": {},
   "source": [
    "#### Решение\n",
    "Не усложняем, просто парсим массив рядов самолёта на каждый запрос. Возвращаем или пустой ответ и исходное состояние, или измененное состояние и ответ, где изменилось. Ищем по символам в строке.\n",
    "\n",
    "Если запросов или рядов ооочень много, имеет смысл хранить всё в словаре и обращаться\n",
    "\n",
    "`d['num']['side']['position']`\n",
    "\n",
    "и получать моментально ответ в виде списка доступных рядов, и выбирать первый встретившийся (он же будет минимальным по построению). Стоит только помнить, что для $n=3$ $position$ не играет роли.\n",
    "\n",
    "Исходно так и получалось, но выбрана более простая для печати реализация (очень неприятно было печатать изменения стейта)."
   ]
  },
  {
   "cell_type": "code",
   "execution_count": 7,
   "id": "consolidated-stanford",
   "metadata": {},
   "outputs": [],
   "source": [
    "def check(row, q):\n",
    "    NOT_FOUND = -1\n",
    "    MID_POS = 3\n",
    "    END = 6\n",
    "    OCCUPIED = \"X\"\n",
    "    EMPTY = \".\"\n",
    "    num, side, position = q.split(' ')\n",
    "    num = int(num)\n",
    "    LABELS = [\"A\", \"B\", \"C\", \"_\", \"D\", \"E\", \"F\"]\n",
    "\n",
    "    if side=='right':\n",
    "        start = MID_POS+1\n",
    "        end = END+1\n",
    "    else:\n",
    "        start = 0\n",
    "        end = MID_POS\n",
    "        \n",
    "    if (position=='window' and side=='right') or (position=='aisle' and side=='left'):\n",
    "        res = row[end-num:end].find(EMPTY*num)\n",
    "        if res!=NOT_FOUND:\n",
    "            return row[:end-num+res]+OCCUPIED*num+row[end:], LABELS[end-num:end]\n",
    "        else:\n",
    "            return row, []\n",
    "    elif (position=='aisle' and side=='right') or (position=='window' and side=='left'):\n",
    "        res = row[start: start+num].find(EMPTY*num)\n",
    "        if res!=NOT_FOUND:\n",
    "            return row[:start]+OCCUPIED*num+row[start+num:], LABELS[start:start+num]\n",
    "        else:\n",
    "            return row, []\n",
    "        \n",
    "def query(s, q):\n",
    "    # for row in state\n",
    "    # check row for compatibility\n",
    "    # mutate the row else return original\n",
    "    # return the repr of answer and the new state\n",
    "    i = -1\n",
    "    answer = None\n",
    "    res = []\n",
    "    while i<len(s)-1 and not answer:\n",
    "        i = i+1\n",
    "        row, answer = check(s[i], q)\n",
    "        res.append(row)\n",
    "    if answer:\n",
    "        answer = \"Passengers can take seats: \"+\" \".join([str(i+1)+j for j in answer])\n",
    "    res.extend(s[i+1:])\n",
    "    return res, answer\n",
    "\n",
    "def solution(state, queries):\n",
    "    \"\"\"\n",
    "    naive impl\n",
    "    \"\"\"\n",
    "    s = state.split('\\n')\n",
    "    queries = queries.split('\\n')\n",
    "    for q in queries:\n",
    "        s, answer = query(list(map(lambda x:x.replace('X','#'),s)), q)\n",
    "        # better move to query\n",
    "        if not answer:\n",
    "            print(\"Cannot fulfill passengers requirements\")\n",
    "        else:\n",
    "            print(answer)\n",
    "            print('\\n'.join(s))"
   ]
  },
  {
   "cell_type": "code",
   "execution_count": 8,
   "id": "cardiac-roman",
   "metadata": {},
   "outputs": [
    {
     "name": "stdout",
     "output_type": "stream",
     "text": [
      "\n"
     ]
    }
   ],
   "source": [
    "# contest framework\n",
    "\"\"\"\n",
    "n = int(input().strip())\n",
    "s = [input().strip() for _ in range(n)]\n",
    "nq = int(input().strip())\n",
    "queries = [input().strip() for _ in range(nq)]\n",
    "for q in queries:\n",
    "    s, answer = query(list(map(lambda x:x.replace('X','#'),s)), q)\n",
    "    if not answer:\n",
    "        print(\"Cannot fulfill passengers requirements\")\n",
    "    else:\n",
    "        print(answer)\n",
    "        print('\\n'.join(s))\n",
    "\"\"\"\n",
    "print()"
   ]
  },
  {
   "cell_type": "code",
   "execution_count": 9,
   "id": "urban-aruba",
   "metadata": {},
   "outputs": [
    {
     "name": "stdout",
     "output_type": "stream",
     "text": [
      "Passengers can take seats: 1B 1C\n",
      ".XX_.#.\n",
      ".##_...\n",
      ".#._.##\n",
      "..._...\n",
      "Passengers can take seats: 4B 4C\n",
      ".##_.#.\n",
      ".##_...\n",
      ".#._.##\n",
      ".XX_...\n",
      "Cannot fulfill passengers requirements\n",
      "Cannot fulfill passengers requirements\n",
      "Passengers can take seats: 1F\n",
      ".##_.#X\n",
      ".##_...\n",
      ".#._.##\n",
      ".##_...\n",
      "Passengers can take seats: 2E 2F\n",
      ".##_.##\n",
      ".##_.XX\n",
      ".#._.##\n",
      ".##_...\n",
      "Passengers can take seats: 4F\n",
      ".##_.##\n",
      ".##_.##\n",
      ".#._.##\n",
      ".##_..X\n"
     ]
    }
   ],
   "source": [
    "solution(\n",
    "    \"\"\"..._.#.\n",
    ".##_...\n",
    ".#._.##\n",
    "..._...\"\"\",\n",
    "    \"\"\"2 left aisle\n",
    "2 left aisle\n",
    "2 left window\n",
    "3 left aisle\n",
    "1 right window\n",
    "2 right window\n",
    "1 right window\"\"\"\n",
    ")"
   ]
  },
  {
   "cell_type": "markdown",
   "id": "attended-phrase",
   "metadata": {},
   "source": [
    "### C. Расстояние\n",
    "Рассмотрим целочисленный массив $a$ длины $n$. Назовём расстоянием от индекса $i$ до множества индексов $S$ величину $dist(i,S)=∑j∈S∣∣ai−aj∣∣$.\n",
    "\n",
    "Зафиксируем целое число $k$. Рассмотрим функцию $f(i)=mindist(i,S)$, где минимум берётся по множествам $S$ размера $k$, не содержащим индекс $i$.\n",
    "\n",
    "Определите значение $f(i)$ для всех $i$ от $1$ до $n$. \n",
    "\n",
    "#### Формат ввода\n",
    "В первой строке заданы два целых числа $n$ и $k (2≤n≤300000, 1≤k<n)$, описанные в условии.\n",
    "\n",
    "Во второй строке содержится $n$ целых чисел $ai (1≤ai≤10^9)$ — элементы массива $a$.\n",
    "\n",
    "#### Формат вывода\n",
    "Выведите $n$ целых чисел: значения $f(i)$ для $i=1,i=2,…,i=n$.\n",
    "\n",
    "#### TL\n",
    "4 секунды"
   ]
  },
  {
   "cell_type": "markdown",
   "id": "clear-courtesy",
   "metadata": {},
   "source": [
    "#### Решение\n",
    "Первая имплементация действовала через пробег по сортированному массиву с увеличением $k$ каждый раз на единицу. Такой перебор не имеет смысла из-за габаритов $n$ и $k$, поэтому используется скользящее окно. Объяснял другу, закину без изменений.\n",
    "\n",
    "- ставишь скользящее окно (массив отсортирован)\n",
    "- представим, у прошлого элемента уже посчитана минимальная сумма (например для первого элемента она однозначно определена)\n",
    "- внутри этого окна берешь следующий элемент\n",
    "- когда ты считал прошлый элемент, стояли элементы левее него и правее: для тех, кто был левее, мы отдалились на один слот, к тем, кто был правее, мы приблизились на один слот, а сами соседи итак рядом\n",
    "- легко посчитать новую сумму по старой за $O(1)$ — для тех кто левее был, расстояние увеличилось (на разницу между новым и старым), а для тех кто правее, уменьшилось\n",
    "- фиксируешь новый элемент и теперь пробуешь двигать окно для него\n",
    "- сдвигая окно на один слот вправо, ты выкидываешь первый слева элемент (и убираешь из суммы разницу с ним), а добавляешь один справа (и прибавляешь разницу с ним), это тоже за $O(1)$\n",
    "- двигаешь окно пока сумма уменьшается\n",
    "- как только она перестала уменьшаться, останавливаешь движение окна и снова толкаешь элемент вправо"
   ]
  },
  {
   "cell_type": "code",
   "execution_count": 10,
   "id": "ambient-crown",
   "metadata": {},
   "outputs": [],
   "source": [
    "def solution(a,k):\n",
    "    \"\"\"\n",
    "    generic solution\n",
    "    O(n(log(n)+k))\n",
    "    \"\"\"\n",
    "    a = sorted([(a[i],i) for i in range(len(a))])\n",
    "    le = len(a)-1\n",
    "    res = [None]*len(a)\n",
    "    for l in range(0,k+1):\n",
    "        i = l\n",
    "        r = k-l\n",
    "        while i+r<=le:\n",
    "            left = sum(\n",
    "                [\n",
    "                    abs(a[i][0]-j[0])\n",
    "                    for j in a[i-l:i]\n",
    "                ]\n",
    "            )\n",
    "            right = sum(\n",
    "                [\n",
    "                    abs(a[i][0]-j[0])\n",
    "                    for j in a[i+1:i+r+1]\n",
    "                ]\n",
    "            )\n",
    "            s = left+right\n",
    "            if (res[a[i][1]] is None) or (res[a[i][1]]>s):\n",
    "                res[a[i][1]] = s\n",
    "            i = i+1\n",
    "    return res"
   ]
  },
  {
   "cell_type": "markdown",
   "id": "underlying-touch",
   "metadata": {},
   "source": [
    "```\n",
    "def solution(a,k):\n",
    "    init()\n",
    "    while elem_pointer<len(a):\n",
    "        move_elem_pointer()\n",
    "        compute_elem_window_diff()\n",
    "        while can_move_window() and (compute_elem_window_diff(moved)<min):\n",
    "            min = compute_elem_window_diff(moved)\n",
    "            move_window()\n",
    "```"
   ]
  },
  {
   "cell_type": "code",
   "execution_count": 11,
   "id": "silver-engagement",
   "metadata": {},
   "outputs": [
    {
     "name": "stdout",
     "output_type": "stream",
     "text": [
      "[4, 2, 8, 4, 2]\n"
     ]
    }
   ],
   "source": [
    "def solution(a, k):\n",
    "    \"\"\"\n",
    "    sliding window impl\n",
    "    we sort, then\n",
    "    we either move the element\n",
    "    or its window (while the sum is lowering)\n",
    "    \"\"\"\n",
    "    a = sorted([(a[i],i) for i in range(len(a))])\n",
    "    i = 0\n",
    "    window_left = i\n",
    "    window_right = k\n",
    "    res = [None]*len(a)\n",
    "    s = sum([abs(a[0][0]-j[0]) for j in a[window_left:window_right+1]])\n",
    "    s_i = 0\n",
    "    res[a[0][1]] = s\n",
    "    while i<len(a)-1:\n",
    "        # choose next elem\n",
    "        if window_right<i+1:\n",
    "            # drop the leftish old sum\n",
    "            s = s-abs(a[i][0]-a[window_left][0])        \n",
    "            # add the diff times the elem count\n",
    "            s = s+(a[i+1][0]-a[i][0])*(i-window_left)\n",
    "            # move the window\n",
    "            window_right = window_right+1\n",
    "            window_left = window_left+1\n",
    "            i = i+1\n",
    "        else:\n",
    "            i = i+1\n",
    "            # compute a new base sum\n",
    "            s = s+(s_i-window_left)*(a[i][0]-a[s_i][0])-(window_right-s_i-1)*(a[i][0]-a[s_i][0])\n",
    "        # move a window if we can and if the new sum is lower\n",
    "        while window_right<len(a)-1 and window_left<=i and (s-abs(a[i][0]-a[window_left][0])+abs(a[i][0]-a[window_right+1][0]))<s:\n",
    "            s = (s-abs(a[i][0]-a[window_left][0])+abs(a[i][0]-a[window_right+1][0]))\n",
    "            window_left = window_left+1\n",
    "            window_right = window_right+1\n",
    "        if (res[a[i][1]] is None) or res[a[i][1]]>s:\n",
    "            res[a[i][1]] = s\n",
    "            s_i = i\n",
    "    return res\n",
    "\n",
    "# contest framework pieces:\n",
    "\"\"\"_,k = map(int,input().strip().split(' '))\n",
    "a = [int(j) for j in input().strip().split(' ')]\n",
    "res = solution(a, k)\n",
    "print(' '.join([str(i) for i in res]))\"\"\"\n",
    "\n",
    "# simple test\n",
    "print(solution([3,2,5,1,2], 3))"
   ]
  },
  {
   "cell_type": "code",
   "execution_count": 12,
   "id": "bearing-finland",
   "metadata": {},
   "outputs": [],
   "source": [
    "import random\n",
    "a = [random.randint(1,10**9) for _ in range(300000)]"
   ]
  },
  {
   "cell_type": "code",
   "execution_count": 13,
   "id": "driving-montreal",
   "metadata": {},
   "outputs": [
    {
     "name": "stdout",
     "output_type": "stream",
     "text": [
      "2.61 s ± 42.3 ms per loop (mean ± std. dev. of 7 runs, 1 loop each)\n"
     ]
    }
   ],
   "source": [
    "# there is 4s limit, so if even an 2009-ish laptop plays, then it should work at the server\n",
    "%timeit solution(a, len(a)//2)"
   ]
  },
  {
   "cell_type": "markdown",
   "id": "grateful-rider",
   "metadata": {},
   "source": [
    "### D. Посчитать графы\n",
    "\n",
    "Назовём неориентированный граф простым, если в нём нет петель и кратных рёбер. Назовём простой неориентированный граф хорошим, если в нём ровно у одной вершины степень равна $n−1$, то есть в графе есть ровно одна вершина, соединённая со всеми остальными ребром.\n",
    "\n",
    "Дано число n, требуется посчитать количество хороших графов на $n$ вершинах. Два графа называются различными, если существует пара вершин $(u,v)$ такая, что в одном графе есть ребро $(u,v)$, а в другом нет.\n",
    "\n",
    "Так как ответ может быть крайне большим, выведите отстаток от его деления на $10^9+7$."
   ]
  },
  {
   "cell_type": "markdown",
   "id": "metallic-electron",
   "metadata": {},
   "source": [
    "#### [Решения нет]\n",
    "\n",
    "Базовая идея - посчитать всю комбинаторику по придуманной формуле в кольце вычетов 10^9+7, иначе числа гигантские."
   ]
  },
  {
   "cell_type": "code",
   "execution_count": null,
   "id": "yellow-martin",
   "metadata": {},
   "outputs": [],
   "source": [
    "def fact(n):\n",
    "    res = 1\n",
    "    c = 10**9+7\n",
    "    for i in range(1,n+1):\n",
    "        res = (res*i)%c\n",
    "    return res\n",
    "def bi(n):\n",
    "    c = 10**9+7\n",
    "    res = 2\n",
    "    for i in range(0,n-1):\n",
    "        res = (res*2) %c\n",
    "    return res\n",
    "def solution(n):\n",
    "    \"\"\"\n",
    "    ---\n",
    "    unfinished\n",
    "    the basic idea is to compute\n",
    "    the desired combinations formula \n",
    "    in Z/mZ modulo\n",
    "    (m = 10^9+7)\n",
    "    ---\n",
    "    \"\"\"\n",
    "    if n==2:\n",
    "        return 0\n",
    "    div = (10**9 + 7)\n",
    "    min_pot = int(n-2)\n",
    "    max_pot = bi(n)\n",
    "    print('bi')\n",
    "    fact_n = fact(n)\n",
    "    print('fact')\n",
    "    s = fact_n//2\n",
    "    print(max_pot)\n",
    "    for i in range(min_pot+1, max_pot):\n",
    "        s = (s+fact_n//(2*(i)))\n",
    "    return s % div"
   ]
  }
 ],
 "metadata": {
  "kernelspec": {
   "display_name": "Python 3",
   "language": "python",
   "name": "python3"
  },
  "language_info": {
   "codemirror_mode": {
    "name": "ipython",
    "version": 3
   },
   "file_extension": ".py",
   "mimetype": "text/x-python",
   "name": "python",
   "nbconvert_exporter": "python",
   "pygments_lexer": "ipython3",
   "version": "3.9.1"
  }
 },
 "nbformat": 4,
 "nbformat_minor": 5
}
