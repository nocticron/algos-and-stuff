{
 "cells": [
  {
   "cell_type": "markdown",
   "id": "cooperative-johns",
   "metadata": {},
   "source": [
    "Кто не любит [гномиков](https://habr.com/ru/post/190242/)? Все любят гномиков!\n",
    "\n",
    "А сегодня поговорим про генерацию [правильных скобочных последовательностей](https://neerc.ifmo.ru/wiki/index.php?title=Правильные_скобочные_последовательности) - одного из дефолтных \"гномиков\", которых задают на алгоритмы. Но будем отвечать не так, как от нас этого ждут!\n",
    "\n",
    "Стандартно алгоритм работает через подсчёт открывающих и закрывающих скобок. Если мы достигли длины искомой строки, значит мы получили ответ. Если недостаёт открывающих скобок - допишем открывающую. Если открывающих скобок больше, чем закрывающих - допишем закрывающую. Лексикографический порядок соблюдён - ведь мы ставили открывающие скобки раньше, чем закрывающие, пока это возможно по счётчикам."
   ]
  },
  {
   "cell_type": "code",
   "execution_count": 51,
   "id": "charming-logic",
   "metadata": {},
   "outputs": [],
   "source": [
    "def gen(n: int, counter_open: int, counter_close: int, ans: str):\n",
    "    \"\"\"\n",
    "    Если есть возможность поставить открывающую скобку, то мы ставим её. \n",
    "    Аналогично после этого если есть возможность поставить закрывающую скобку, \n",
    "    то после этого мы ставим и её.\n",
    "    Таким образом строки будут выведены в лексографическом порядке, \n",
    "    так как сначала мы мы пытаемся поставить открывающую скобку. \n",
    "    При этом мы перебираем все возможные варианты последующих скобок \n",
    "    для каждого возможного префикса 𝚊𝚗𝚜, \n",
    "    а следовательно в результате получаем все возможножные \n",
    "    правильные скобочные последовательности\n",
    "    \"\"\"\n",
    "    res = []\n",
    "    if counter_open + counter_close == 2 * n:\n",
    "        res.append(ans)\n",
    "    if counter_open < n:\n",
    "        res.extend(gen(n, counter_open + 1, counter_close, ans + '('))\n",
    "    if counter_open > counter_close:\n",
    "        res.extend(gen(n, counter_open, counter_close + 1, ans + ')'))\n",
    "    return res"
   ]
  },
  {
   "cell_type": "code",
   "execution_count": 56,
   "id": "exceptional-windsor",
   "metadata": {},
   "outputs": [
    {
     "name": "stdout",
     "output_type": "stream",
     "text": [
      "((()))\n",
      "(()())\n",
      "(())()\n",
      "()(())\n",
      "()()()\n"
     ]
    }
   ],
   "source": [
    "print('\\n'.join(gen(3, 0, 0, '')))"
   ]
  },
  {
   "cell_type": "markdown",
   "id": "passing-prospect",
   "metadata": {},
   "source": [
    "А порядок в скобках это уже намёк! Запомним это и внимательнее присмотримся к шагу от `n` к `n+1`. "
   ]
  },
  {
   "cell_type": "code",
   "execution_count": 83,
   "id": "general-moderator",
   "metadata": {},
   "outputs": [],
   "source": [
    "def red(s: str):\n",
    "    r_start = \"\\x1b[31m\"\n",
    "    r_finish = \"\\x1b[0m\"\n",
    "    return r_start+str(s)+r_finish\n",
    "\n",
    "def gen_step(n):\n",
    "    #if n<:\n",
    "    #    raise Exception()\n",
    "    res = []\n",
    "    gen_n = set(gen(n, 0, 0, ''))\n",
    "    for i in gen(n+1, 0, 0, ''):\n",
    "        if i[1:-1] in gen_n:\n",
    "            res.append(i[0]+red(i[1:-1])+i[-1])\n",
    "        elif i[:-2] in gen_n:\n",
    "            res.append(red(i[:-2])+i[-2:])\n",
    "        elif i[2:] in gen_n:\n",
    "            res.append(i[:2]+red(i[2:]))\n",
    "        else:\n",
    "            res.append(i)\n",
    "    return res"
   ]
  },
  {
   "cell_type": "code",
   "execution_count": 84,
   "id": "agricultural-marks",
   "metadata": {},
   "outputs": [
    {
     "name": "stdout",
     "output_type": "stream",
     "text": [
      "(\u001b[31m(())\u001b[0m)\n",
      "(\u001b[31m()()\u001b[0m)\n",
      "\u001b[31m(())\u001b[0m()\n",
      "()\u001b[31m(())\u001b[0m\n",
      "\u001b[31m()()\u001b[0m()\n"
     ]
    }
   ],
   "source": [
    "print('\\n'.join(gen_step(2)))"
   ]
  },
  {
   "cell_type": "code",
   "execution_count": 86,
   "id": "optimum-talent",
   "metadata": {},
   "outputs": [
    {
     "name": "stdout",
     "output_type": "stream",
     "text": [
      "(\u001b[31m((()))\u001b[0m)\n",
      "(\u001b[31m(()())\u001b[0m)\n",
      "(\u001b[31m(())()\u001b[0m)\n",
      "\u001b[31m((()))\u001b[0m()\n",
      "(\u001b[31m()(())\u001b[0m)\n",
      "(\u001b[31m()()()\u001b[0m)\n",
      "\u001b[31m(()())\u001b[0m()\n",
      "(())(())\n",
      "\u001b[31m(())()\u001b[0m()\n",
      "()\u001b[31m((()))\u001b[0m\n",
      "()\u001b[31m(()())\u001b[0m\n",
      "\u001b[31m()(())\u001b[0m()\n",
      "()\u001b[31m()(())\u001b[0m\n",
      "\u001b[31m()()()\u001b[0m()\n"
     ]
    }
   ],
   "source": [
    "print('\\n'.join(gen_step(3)))"
   ]
  },
  {
   "cell_type": "markdown",
   "id": "laughing-pricing",
   "metadata": {},
   "source": [
    "Интуитивно понятно, что более длинные последовательноти можно получить из коротких просто обернув их в скобки. Ещё мы можем дописывать `()` слева и справа. Теперь мы не просто генерим скобки, а начинаем действовать на них операциями. Как сложение и умножение, только над скобками. А давайте перевернём эту фразу, заменив сложение на эти странные сдвиги и оборачивания, а скобки заменим на числа."
   ]
  },
  {
   "cell_type": "markdown",
   "id": "egyptian-compression",
   "metadata": {},
   "source": [
    "Скобок у нас всего две - `(` и `)`, и первое что приходит на ум - кодировать наборы как двоичные числа. Если что-то получится, не за горами любой скобочный алфавит (четверичный, восьмеричный etc.)"
   ]
  },
  {
   "cell_type": "code",
   "execution_count": 94,
   "id": "floral-bankruptcy",
   "metadata": {},
   "outputs": [],
   "source": [
    "def encode(brackets):\n",
    "    # just for demo purposes, your code may vary\n",
    "    return int(''.join(brackets).replace('(','0').replace(')', '1'),2)"
   ]
  },
  {
   "cell_type": "markdown",
   "id": "experienced-debate",
   "metadata": {},
   "source": [
    "На примере $n=2$:"
   ]
  },
  {
   "cell_type": "code",
   "execution_count": 110,
   "id": "rising-circle",
   "metadata": {},
   "outputs": [
    {
     "name": "stdout",
     "output_type": "stream",
     "text": [
      "(()), ()()\n",
      "0011, 0101\n",
      "3, 5\n"
     ]
    }
   ],
   "source": [
    "gen_2 = gen(2,0,0,'')\n",
    "print(', '.join(gen_2))\n",
    "print(', '.join([i.replace('(','0').replace(')', '1') for i in gen_2]))\n",
    "print(', '.join([str(encode(i)) for i in gen_2]))"
   ]
  },
  {
   "cell_type": "markdown",
   "id": "yellow-recycling",
   "metadata": {},
   "source": [
    "Теперь наши скобки оживают как последовательности чисел! Соседние элементы различаются на 8, потом на 4, потом на 2..."
   ]
  },
  {
   "cell_type": "code",
   "execution_count": 116,
   "id": "continued-pakistan",
   "metadata": {},
   "outputs": [
    {
     "data": {
      "text/plain": [
       "[15, 23, 27, 29, 39, 43, 45, 51, 53, 71, 75, 77, 83, 85]"
      ]
     },
     "execution_count": 116,
     "metadata": {},
     "output_type": "execute_result"
    }
   ],
   "source": [
    "gen_4_enc = [encode(i) for i in gen(4,0,0,'')]\n",
    "gen_4_enc"
   ]
  },
  {
   "cell_type": "markdown",
   "id": "promising-equality",
   "metadata": {},
   "source": [
    "Но вместо ожидаемой красоты мы видим странное. Последовательность то хорошо себя ведёт, то ломается. $8,4,2,10$!"
   ]
  },
  {
   "cell_type": "code",
   "execution_count": 117,
   "id": "compound-headline",
   "metadata": {},
   "outputs": [
    {
     "data": {
      "text/plain": [
       "[8, 4, 2, 10, 4, 2, 6, 2, 18, 4, 2, 6, 2]"
      ]
     },
     "execution_count": 117,
     "metadata": {},
     "output_type": "execute_result"
    }
   ],
   "source": [
    "[gen_4_enc[i] - gen_4_enc[i-1] for i in range(1,len(gen_4_enc))]"
   ]
  },
  {
   "cell_type": "markdown",
   "id": "adequate-camping",
   "metadata": {},
   "source": [
    "Посмотрим, что творится при других $n$."
   ]
  },
  {
   "cell_type": "code",
   "execution_count": null,
   "id": "fallen-radio",
   "metadata": {},
   "outputs": [],
   "source": [
    "import seaborn as sns"
   ]
  },
  {
   "cell_type": "code",
   "execution_count": 259,
   "id": "opening-preservation",
   "metadata": {},
   "outputs": [],
   "source": [
    "def gen_up_to(n):\n",
    "    \"\"\"\n",
    "    computes the difference\n",
    "    \"\"\"\n",
    "    table = []\n",
    "    last_len = None\n",
    "    for i in range(n,1,-1):\n",
    "        prev = None\n",
    "        row = []\n",
    "        for j in gen(i,0,0,''):\n",
    "            if prev is None:\n",
    "                prev = encode(j)\n",
    "            else:\n",
    "                # just computing deltas\n",
    "                cur = encode(j)\n",
    "                row.append(cur-prev)\n",
    "                prev = cur\n",
    "        if last_len is None:\n",
    "            last_len = len(row) # will fire once when i=n (max length)\n",
    "        row.extend([0]*(last_len-len(row))) # padding with zeros\n",
    "        table.append(row)\n",
    "    return list(reversed(table))"
   ]
  },
  {
   "cell_type": "code",
   "execution_count": 258,
   "id": "wanted-planner",
   "metadata": {},
   "outputs": [
    {
     "data": {
      "text/plain": [
       "<AxesSubplot:>"
      ]
     },
     "execution_count": 258,
     "metadata": {},
     "output_type": "execute_result"
    },
    {
     "data": {
      "image/png": "[encoded data removed]",
      "text/plain": [
       "<Figure size 1440x288 with 2 Axes>"
      ]
     },
     "metadata": {},
     "output_type": "display_data"
    }
   ],
   "source": [
    "table_5 = gen_up_to(5)\n",
    "sns.heatmap(table_5)"
   ]
  },
  {
   "cell_type": "markdown",
   "id": "clear-queue",
   "metadata": {},
   "source": [
    "Разгадаем этот рисунок."
   ]
  },
  {
   "cell_type": "code",
   "execution_count": 270,
   "id": "activated-wallet",
   "metadata": {},
   "outputs": [
    {
     "name": "stdout",
     "output_type": "stream",
     "text": [
      "2\n",
      "4, 2, 6, 2\n",
      "8, 4, 2, 10, 4, 2, 6, 2, 18, 4, 2, 6, 2\n",
      "16, 8, 4, 2, 18, 8, 4, 2, 10, 4, 2, 6, 2, 26, 8, 4, 2, 10, 4, 2, 6, 2, 18, 4, 2, 6, 2, 58, 8, 4, 2, 10, 4, 2, 6, 2, 18, 4, 2, 6, 2\n"
     ]
    }
   ],
   "source": [
    "print('\\n'.join(\n",
    "    [\n",
    "        ', '.join([str(j) for j in list(filter(lambda x: x>0, i))])\n",
    "        for i in table_5]\n",
    "))"
   ]
  },
  {
   "cell_type": "code",
   "execution_count": 271,
   "id": "visible-venue",
   "metadata": {},
   "outputs": [
    {
     "name": "stdout",
     "output_type": "stream",
     "text": [
      "2\n",
      "4, 2, 6, 2\n",
      "8, 4, 2, 10, 4, 2, 6, 2, 18, 4, 2, 6, 2\n",
      "16, 8, 4, 2, 18, 8, 4, 2, 10, 4, 2, 6, 2, 26, 8, 4, 2, 10, 4, 2, 6, 2, 18, 4, 2, 6, 2, 58, 8, 4, 2, 10, 4, 2, 6, 2, 18, 4, 2, 6, 2\n",
      "32, 16, 8, 4, 2, 34, 16, 8, 4, 2, 18, 8, 4, 2, 10, 4, 2, 6, 2, 42, 16, 8, 4, 2, 18, 8, 4, 2, 10, 4, 2, 6, 2, 26, 8, 4, 2, 10, 4, 2, 6, 2, 18, 4, 2, 6, 2, 74, 16, 8, 4, 2, 18, 8, 4, 2, 10, 4, 2, 6, 2, 26, 8, 4, 2, 10, 4, 2, 6, 2, 18, 4, 2, 6, 2, 58, 8, 4, 2, 10, 4, 2, 6, 2, 18, 4, 2, 6, 2, 202, 16, 8, 4, 2, 18, 8, 4, 2, 10, 4, 2, 6, 2, 26, 8, 4, 2, 10, 4, 2, 6, 2, 18, 4, 2, 6, 2, 58, 8, 4, 2, 10, 4, 2, 6, 2, 18, 4, 2, 6, 2\n"
     ]
    }
   ],
   "source": [
    "print('\\n'.join(\n",
    "    [\n",
    "        ', '.join([str(j) for j in list(filter(lambda x: x>0, i))])\n",
    "        for i in table_6]\n",
    "))"
   ]
  },
  {
   "cell_type": "code",
   "execution_count": 302,
   "id": "reasonable-drove",
   "metadata": {},
   "outputs": [],
   "source": [
    "def is_binary(x):\n",
    "    if x==0:\n",
    "        return False\n",
    "    while x//2>1:\n",
    "        if x%2==1:\n",
    "            return False\n",
    "        x = x//2\n",
    "    return x%2==0"
   ]
  },
  {
   "cell_type": "code",
   "execution_count": 310,
   "id": "guilty-tulsa",
   "metadata": {},
   "outputs": [
    {
     "name": "stdout",
     "output_type": "stream",
     "text": [
      "\n",
      "2:6\n",
      "3:10,  6:6,  8:18,  11:6\n",
      "4:18,  8:10,  11:6,  13:26,  17:10,  20:6,  22:18,  25:6,  27:58,  31:10,  34:6,  36:18,  39:6\n",
      "5:34,  10:18,  14:10,  17:6,  19:42,  24:18,  28:10,  31:6,  33:26,  37:10,  40:6,  42:18,  45:6,  47:74,  52:18,  56:10,  59:6,  61:26,  65:10,  68:6,  70:18,  73:6,  75:58,  79:10,  82:6,  84:18,  87:6,  89:202,  94:18,  98:10,  101:6,  103:26,  107:10,  110:6,  112:18,  115:6,  117:58,  121:10,  124:6,  126:18,  129:6\n"
     ]
    }
   ],
   "source": [
    "for i in table_6:\n",
    "    f = []\n",
    "    for j in range(len(i)):\n",
    "        if i[j]>0 and not is_binary(i[j]):\n",
    "            f.append(str(j)+':'+str(i[j]))\n",
    "    print(',  '.join(f))"
   ]
  },
  {
   "cell_type": "code",
   "execution_count": 300,
   "id": "pregnant-leone",
   "metadata": {},
   "outputs": [
    {
     "name": "stdout",
     "output_type": "stream",
     "text": [
      "\n",
      "6\n",
      "10, 6, 18, 6\n",
      "18, 10, 6, 26, 10, 6, 18, 6, 58, 10, 6, 18, 6\n",
      "34, 18, 10, 6, 42, 18, 10, 6, 26, 10, 6, 18, 6, 74, 18, 10, 6, 26, 10, 6, 18, 6, 58, 10, 6, 18, 6, 202, 18, 10, 6, 26, 10, 6, 18, 6, 58, 10, 6, 18, 6\n"
     ]
    }
   ],
   "source": [
    "print('\\n'.join(\n",
    "    [\n",
    "        ', '.join([str(j) for j in list(filter(lambda x: x>0 and (not is_binary(x)), i))])\n",
    "        for i in table_6]\n",
    "))"
   ]
  },
  {
   "cell_type": "code",
   "execution_count": 178,
   "id": "loose-example",
   "metadata": {},
   "outputs": [],
   "source": [
    "test1 = [len(gen(i,0,0,\"\")) for i in range(1,12)]\n",
    "test2 = [encode(gen(i,0,0,\"\")[-1]) - encode(gen(i,0,0,\"\")[0]) for i in range(1,12)]\n",
    "test3 = [int('01'*i,2) for i in range(1,12)]\n",
    "test4 = [test1[i]-2**i for i in range(len(test1))]"
   ]
  },
  {
   "cell_type": "code",
   "execution_count": 311,
   "id": "opening-contemporary",
   "metadata": {},
   "outputs": [],
   "source": []
  },
  {
   "cell_type": "code",
   "execution_count": 425,
   "id": "delayed-butler",
   "metadata": {},
   "outputs": [],
   "source": [
    "def gen_up_to(n):\n",
    "    \"\"\"\n",
    "    generates the number tables up to n-th\n",
    "    bracket sequence\n",
    "    \"\"\"\n",
    "    table = []\n",
    "    last = [encode(j) for j in gen(n,0,0,'')]\n",
    "    last_len = len(last)\n",
    "    for i in range(2,n):\n",
    "        row = [encode(j) for j in gen(i,0,0,'')]\n",
    "        row.extend([0]*(last_len-len(row)))\n",
    "        table.append(row)\n",
    "    table.append(last)\n",
    "    return table\n",
    "\n",
    "def plot(n, spacer='\\n'):\n",
    "    table = []\n",
    "    g = gen_up_to(n+1)\n",
    "    for i in range(len(g)):\n",
    "        row = []\n",
    "        for j in range(len(g[i])):\n",
    "            if g[i][j]>0:\n",
    "                if (j-1>=0) and (not is_binary(g[i][j]-g[i][j-1])):\n",
    "                    row.append(red(g[i][j]))\n",
    "                else:\n",
    "                    row.append(str(g[i][j]))\n",
    "        table.append(spacer+str(i+1)+': '+', '.join(row))\n",
    "    return '\\n'.join(table)\n",
    "\n",
    "def plot_period(n, spacer='\\n'):\n",
    "    table = []\n",
    "    g = gen_up_to(n+1)\n",
    "    for i in range(len(g)):\n",
    "        row = []\n",
    "        period = 0\n",
    "        for j in range(len(g[i])):\n",
    "            if g[i][j]>0:\n",
    "                if (j-1>=0) and (not is_binary(g[i][j]-g[i][j-1])):\n",
    "                    row.append(str(period))\n",
    "                    period = 0\n",
    "                else:\n",
    "                    period = period + 1\n",
    "        table.append(spacer+str(i+1)+': '+', '.join(row))\n",
    "    return '\\n'.join(table)\n",
    "\n",
    "def plot_period(n, spacer='\\n'):\n",
    "    table = []\n",
    "    g = gen_up_to(n+1)\n",
    "    for i in range(len(g)):\n",
    "        row = []\n",
    "        period = 0\n",
    "        for j in range(len(g[i])):\n",
    "            if g[i][j]>0:\n",
    "                if (j-1>=0) and (not is_binary(g[i][j]-g[i][j-1])):\n",
    "                    if period==1:\n",
    "                        row.append(red(period))\n",
    "                    else:\n",
    "                        row.append(str(period))\n",
    "                    period = 0\n",
    "                else:\n",
    "                    period = period + 1\n",
    "        table.append(spacer+str(i+1)+': '+', '.join(row))\n",
    "    return '\\n'.join(table)\n",
    "\n",
    "def plot_period_period(n, spacer='\\n'):\n",
    "    table = []\n",
    "    g = gen_up_to(n+1)\n",
    "    for i in range(len(g)):\n",
    "        row = []\n",
    "        period = 0\n",
    "        period_period = 0\n",
    "        for j in range(len(g[i])):\n",
    "            if g[i][j]>0:\n",
    "                if (j-1>=0) and (not is_binary(g[i][j]-g[i][j-1])):\n",
    "                    if period==1:\n",
    "                        if period_period==1:\n",
    "                            row.append(red(period_period))\n",
    "                        else:\n",
    "                            row.append(str(period_period))\n",
    "                        period_period = 0\n",
    "                    else:\n",
    "                        period_period = period_period +1\n",
    "                    period = 0\n",
    "                else:\n",
    "                    period = period + 1\n",
    "        table.append(spacer+str(i+1)+':\\n'+', '.join(row))\n",
    "    return '\\n'.join(table)"
   ]
  },
  {
   "cell_type": "code",
   "execution_count": 416,
   "id": "light-image",
   "metadata": {},
   "outputs": [
    {
     "name": "stdout",
     "output_type": "stream",
     "text": [
      "1: 3, 5\n",
      "2: 7, 11, 13, \u001b[31m19\u001b[0m, 21\n",
      "3: 15, 23, 27, 29, \u001b[31m39\u001b[0m, 43, 45, \u001b[31m51\u001b[0m, 53, \u001b[31m71\u001b[0m, 75, 77, \u001b[31m83\u001b[0m, 85\n",
      "4: 31, 47, 55, 59, 61, \u001b[31m79\u001b[0m, 87, 91, 93, \u001b[31m103\u001b[0m, 107, 109, \u001b[31m115\u001b[0m, 117, \u001b[31m143\u001b[0m, 151, 155, 157, \u001b[31m167\u001b[0m, 171, 173, \u001b[31m179\u001b[0m, 181, \u001b[31m199\u001b[0m, 203, 205, \u001b[31m211\u001b[0m, 213, \u001b[31m271\u001b[0m, 279, 283, 285, \u001b[31m295\u001b[0m, 299, 301, \u001b[31m307\u001b[0m, 309, \u001b[31m327\u001b[0m, 331, 333, \u001b[31m339\u001b[0m, 341\n"
     ]
    }
   ],
   "source": [
    "print(plot(4, spacer=''))"
   ]
  },
  {
   "cell_type": "code",
   "execution_count": 417,
   "id": "digital-brass",
   "metadata": {},
   "outputs": [
    {
     "name": "stdout",
     "output_type": "stream",
     "text": [
      "\n",
      "1: \n",
      "\n",
      "2: 3\n",
      "\n",
      "3: 4, 2, \u001b[31m1\u001b[0m, 2\n",
      "\n",
      "4: 5, 3, 2, \u001b[31m1\u001b[0m, 3, 2, \u001b[31m1\u001b[0m, 2, \u001b[31m1\u001b[0m, 3, 2, \u001b[31m1\u001b[0m, 2\n",
      "\n",
      "5: 6, 4, 3, 2, \u001b[31m1\u001b[0m, 4, 3, 2, \u001b[31m1\u001b[0m, 3, 2, \u001b[31m1\u001b[0m, 2, \u001b[31m1\u001b[0m, 4, 3, 2, \u001b[31m1\u001b[0m, 3, 2, \u001b[31m1\u001b[0m, 2, \u001b[31m1\u001b[0m, 3, 2, \u001b[31m1\u001b[0m, 2, \u001b[31m1\u001b[0m, 4, 3, 2, \u001b[31m1\u001b[0m, 3, 2, \u001b[31m1\u001b[0m, 2, \u001b[31m1\u001b[0m, 3, 2, \u001b[31m1\u001b[0m, 2\n",
      "\n",
      "6: 7, 5, 4, 3, 2, \u001b[31m1\u001b[0m, 5, 4, 3, 2, \u001b[31m1\u001b[0m, 4, 3, 2, \u001b[31m1\u001b[0m, 3, 2, \u001b[31m1\u001b[0m, 2, \u001b[31m1\u001b[0m, 5, 4, 3, 2, \u001b[31m1\u001b[0m, 4, 3, 2, \u001b[31m1\u001b[0m, 3, 2, \u001b[31m1\u001b[0m, 2, \u001b[31m1\u001b[0m, 4, 3, 2, \u001b[31m1\u001b[0m, 3, 2, \u001b[31m1\u001b[0m, 2, \u001b[31m1\u001b[0m, 3, 2, \u001b[31m1\u001b[0m, 2, \u001b[31m1\u001b[0m, 5, 4, 3, 2, \u001b[31m1\u001b[0m, 4, 3, 2, \u001b[31m1\u001b[0m, 3, 2, \u001b[31m1\u001b[0m, 2, \u001b[31m1\u001b[0m, 4, 3, 2, \u001b[31m1\u001b[0m, 3, 2, \u001b[31m1\u001b[0m, 2, \u001b[31m1\u001b[0m, 3, 2, \u001b[31m1\u001b[0m, 2, \u001b[31m1\u001b[0m, 4, 3, 2, \u001b[31m1\u001b[0m, 3, 2, \u001b[31m1\u001b[0m, 2, \u001b[31m1\u001b[0m, 3, 2, \u001b[31m1\u001b[0m, 2, \u001b[31m1\u001b[0m, 5, 4, 3, 2, \u001b[31m1\u001b[0m, 4, 3, 2, \u001b[31m1\u001b[0m, 3, 2, \u001b[31m1\u001b[0m, 2, \u001b[31m1\u001b[0m, 4, 3, 2, \u001b[31m1\u001b[0m, 3, 2, \u001b[31m1\u001b[0m, 2, \u001b[31m1\u001b[0m, 3, 2, \u001b[31m1\u001b[0m, 2, \u001b[31m1\u001b[0m, 4, 3, 2, \u001b[31m1\u001b[0m, 3, 2, \u001b[31m1\u001b[0m, 2, \u001b[31m1\u001b[0m, 3, 2, \u001b[31m1\u001b[0m, 2\n"
     ]
    }
   ],
   "source": [
    "print(plot_period(6, spacer='\\n'))"
   ]
  },
  {
   "cell_type": "code",
   "execution_count": 428,
   "id": "vertical-daughter",
   "metadata": {},
   "outputs": [
    {
     "name": "stdout",
     "output_type": "stream",
     "text": [
      "\n",
      "1:\n",
      "\n",
      "\n",
      "2:\n",
      "\n",
      "\n",
      "3:\n",
      "2\n",
      "\n",
      "4:\n",
      "3, 2, \u001b[31m1\u001b[0m, 2\n",
      "\n",
      "5:\n",
      "4, 3, 2, \u001b[31m1\u001b[0m, 3, 2, \u001b[31m1\u001b[0m, 2, \u001b[31m1\u001b[0m, 3, 2, \u001b[31m1\u001b[0m, 2\n",
      "\n",
      "6:\n",
      "5, 4, 3, 2, \u001b[31m1\u001b[0m, 4, 3, 2, \u001b[31m1\u001b[0m, 3, 2, \u001b[31m1\u001b[0m, 2, \u001b[31m1\u001b[0m, 4, 3, 2, \u001b[31m1\u001b[0m, 3, 2, \u001b[31m1\u001b[0m, 2, \u001b[31m1\u001b[0m, 3, 2, \u001b[31m1\u001b[0m, 2, \u001b[31m1\u001b[0m, 4, 3, 2, \u001b[31m1\u001b[0m, 3, 2, \u001b[31m1\u001b[0m, 2, \u001b[31m1\u001b[0m, 3, 2, \u001b[31m1\u001b[0m, 2\n",
      "\n",
      "7:\n",
      "6, 5, 4, 3, 2, \u001b[31m1\u001b[0m, 5, 4, 3, 2, \u001b[31m1\u001b[0m, 4, 3, 2, \u001b[31m1\u001b[0m, 3, 2, \u001b[31m1\u001b[0m, 2, \u001b[31m1\u001b[0m, 5, 4, 3, 2, \u001b[31m1\u001b[0m, 4, 3, 2, \u001b[31m1\u001b[0m, 3, 2, \u001b[31m1\u001b[0m, 2, \u001b[31m1\u001b[0m, 4, 3, 2, \u001b[31m1\u001b[0m, 3, 2, \u001b[31m1\u001b[0m, 2, \u001b[31m1\u001b[0m, 3, 2, \u001b[31m1\u001b[0m, 2, \u001b[31m1\u001b[0m, 5, 4, 3, 2, \u001b[31m1\u001b[0m, 4, 3, 2, \u001b[31m1\u001b[0m, 3, 2, \u001b[31m1\u001b[0m, 2, \u001b[31m1\u001b[0m, 4, 3, 2, \u001b[31m1\u001b[0m, 3, 2, \u001b[31m1\u001b[0m, 2, \u001b[31m1\u001b[0m, 3, 2, \u001b[31m1\u001b[0m, 2, \u001b[31m1\u001b[0m, 4, 3, 2, \u001b[31m1\u001b[0m, 3, 2, \u001b[31m1\u001b[0m, 2, \u001b[31m1\u001b[0m, 3, 2, \u001b[31m1\u001b[0m, 2, \u001b[31m1\u001b[0m, 5, 4, 3, 2, \u001b[31m1\u001b[0m, 4, 3, 2, \u001b[31m1\u001b[0m, 3, 2, \u001b[31m1\u001b[0m, 2, \u001b[31m1\u001b[0m, 4, 3, 2, \u001b[31m1\u001b[0m, 3, 2, \u001b[31m1\u001b[0m, 2, \u001b[31m1\u001b[0m, 3, 2, \u001b[31m1\u001b[0m, 2, \u001b[31m1\u001b[0m, 4, 3, 2, \u001b[31m1\u001b[0m, 3, 2, \u001b[31m1\u001b[0m, 2, \u001b[31m1\u001b[0m, 3, 2, \u001b[31m1\u001b[0m, 2\n"
     ]
    }
   ],
   "source": [
    "print(plot_period_period(7, spacer='\\n'))"
   ]
  },
  {
   "cell_type": "code",
   "execution_count": null,
   "id": "eight-lawsuit",
   "metadata": {},
   "outputs": [],
   "source": []
  }
 ],
 "metadata": {
  "kernelspec": {
   "display_name": "Python 3",
   "language": "python",
   "name": "python3"
  },
  "language_info": {
   "codemirror_mode": {
    "name": "ipython",
    "version": 3
   },
   "file_extension": ".py",
   "mimetype": "text/x-python",
   "name": "python",
   "nbconvert_exporter": "python",
   "pygments_lexer": "ipython3",
   "version": "3.9.1"
  }
 },
 "nbformat": 4,
 "nbformat_minor": 5
}
