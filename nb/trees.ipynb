{
 "cells": [
  {
   "cell_type": "markdown",
   "id": "expanded-deployment",
   "metadata": {},
   "source": [
    "## Trees\n",
    "- [Setup](#Setup)\n",
    "- [Binary search tree](#BST)\n",
    "- [Turns](#Turns)\n",
    "- [Adelson-Velsky and Landis tree](#AVL)"
   ]
  },
  {
   "cell_type": "markdown",
   "id": "alien-equality",
   "metadata": {},
   "source": [
    "## Setup\n",
    "You can install it via `setup.py`, using `will_install=True`, and uninstall via `pip uninstall tree`, or use without installation at this notebook only."
   ]
  },
  {
   "cell_type": "code",
   "execution_count": 1,
   "id": "celtic-horror",
   "metadata": {},
   "outputs": [],
   "source": [
    "will_install = False"
   ]
  },
  {
   "cell_type": "code",
   "execution_count": 2,
   "id": "altered-minister",
   "metadata": {},
   "outputs": [],
   "source": [
    "if will_install:\n",
    "    ! cd ../code/tree_package && python3 setup.py install \n",
    "else:\n",
    "    import sys\n",
    "    sys.path.append('../code/tree_package/')"
   ]
  },
  {
   "cell_type": "markdown",
   "id": "satisfactory-motor",
   "metadata": {},
   "source": [
    "## BST"
   ]
  },
  {
   "cell_type": "code",
   "execution_count": 3,
   "id": "designed-diagram",
   "metadata": {},
   "outputs": [
    {
     "name": "stdout",
     "output_type": "stream",
     "text": [
      "                    0\n",
      "                  -1 2\n",
      "                 -3 1 3\n",
      "                       4\n"
     ]
    }
   ],
   "source": [
    "from tree.tree import BST\n",
    "sample = [0,-1,2,1,3,-3,4]\n",
    "T = BST(sample)\n",
    "print(T)"
   ]
  },
  {
   "cell_type": "code",
   "execution_count": 4,
   "id": "electronic-invite",
   "metadata": {},
   "outputs": [
    {
     "name": "stdout",
     "output_type": "stream",
     "text": [
      "                    0\n",
      "                  -1 3\n",
      "                 -3 1 4\n"
     ]
    }
   ],
   "source": [
    "# removing leaf value\n",
    "T.delete(2)\n",
    "print(T)"
   ]
  },
  {
   "cell_type": "code",
   "execution_count": 5,
   "id": "automotive-celebrity",
   "metadata": {},
   "outputs": [
    {
     "name": "stdout",
     "output_type": "stream",
     "text": [
      "                    3\n",
      "                   1 4\n",
      "                 -1\n",
      "                -3\n"
     ]
    }
   ],
   "source": [
    "# removing root value\n",
    "T.delete(T.root.value)\n",
    "print(T)"
   ]
  },
  {
   "cell_type": "code",
   "execution_count": 6,
   "id": "mathematical-builder",
   "metadata": {},
   "outputs": [
    {
     "data": {
      "text/plain": [
       "                    3\n",
       "                   1 4\n",
       "                 -1    999\n",
       "                -3         1024"
      ]
     },
     "execution_count": 6,
     "metadata": {},
     "output_type": "execute_result"
    }
   ],
   "source": [
    "# concatenation\n",
    "sample2 = [1024,999]\n",
    "T2 = BST(sample2)\n",
    "print(T+T2)"
   ]
  },
  {
   "cell_type": "code",
   "execution_count": 7,
   "id": "young-episode",
   "metadata": {},
   "outputs": [
    {
     "data": {
      "text/plain": [
       "[-3, -1, 1, 3, 4]"
      ]
     },
     "execution_count": 7,
     "metadata": {},
     "output_type": "execute_result"
    }
   ],
   "source": [
    "# traverse\n",
    "gen = T.traverse()\n",
    "list(gen)"
   ]
  },
  {
   "cell_type": "code",
   "execution_count": 8,
   "id": "macro-desire",
   "metadata": {},
   "outputs": [
    {
     "data": {
      "text/plain": [
       "True"
      ]
     },
     "execution_count": 8,
     "metadata": {},
     "output_type": "execute_result"
    }
   ],
   "source": [
    "# __contains__\n",
    "4 in T"
   ]
  },
  {
   "cell_type": "code",
   "execution_count": 9,
   "id": "entire-smell",
   "metadata": {},
   "outputs": [],
   "source": [
    "# edge case: full removal\n",
    "for i in T.traverse():\n",
    "    T.delete(i)\n",
    "# removing from already empty tree\n",
    "# no exceptions expected\n",
    "T.delete(100500)"
   ]
  },
  {
   "cell_type": "markdown",
   "id": "floppy-logan",
   "metadata": {},
   "source": [
    "## Turns"
   ]
  },
  {
   "cell_type": "code",
   "execution_count": 19,
   "id": "undefined-credit",
   "metadata": {
    "scrolled": false
   },
   "outputs": [
    {
     "name": "stdout",
     "output_type": "stream",
     "text": [
      "original tree:\n",
      "                    0\n",
      "                  -1 2\n",
      "                 -3 1 3\n",
      "                       4\n",
      "greater left turn around the root:\n",
      "                    1\n",
      "                   0 2\n",
      "                 -1   3\n",
      "                -3     4\n",
      "left turn around the root:\n",
      "                    2\n",
      "                   0 3\n",
      "                 -1 1 4\n",
      "                -3\n"
     ]
    }
   ],
   "source": [
    "# N.B.! turns do not handle edge cases, as intended\n",
    "from tree.turns import grosser_turn, turn, LEFT, RIGHT\n",
    "gl = grosser_turn(LEFT)\n",
    "ll = turn(LEFT)\n",
    "T = BST(sample)\n",
    "print('original tree:')\n",
    "print(T)\n",
    "print('greater left turn around the root:')\n",
    "print(BST(gl(T.root)))\n",
    "print('left turn around the root:')\n",
    "print(BST(ll(T.root)))"
   ]
  },
  {
   "cell_type": "markdown",
   "id": "extended-underwear",
   "metadata": {},
   "source": [
    "## AVL"
   ]
  },
  {
   "cell_type": "code",
   "execution_count": 23,
   "id": "reserved-closing",
   "metadata": {},
   "outputs": [],
   "source": [
    "# wikipedia sample\n",
    "# https://commons.wikimedia.org/wiki/File:AVL_Tree_Example.gif\n",
    "from tree.tree import AVLT\n",
    "sample2 = ['m','n','o','l','k','q','p','h','i','a']"
   ]
  },
  {
   "cell_type": "code",
   "execution_count": 36,
   "id": "overhead-shower",
   "metadata": {},
   "outputs": [],
   "source": [
    "want_to_watch_balancing = False"
   ]
  },
  {
   "cell_type": "code",
   "execution_count": 37,
   "id": "viral-enzyme",
   "metadata": {},
   "outputs": [
    {
     "name": "stdout",
     "output_type": "stream",
     "text": [
      "                    n\n",
      "                   i p\n",
      "                  h loq\n",
      "                 a k m\n"
     ]
    }
   ],
   "source": [
    "if want_to_watch_balancing:\n",
    "    T2 = AVLT(sample2[0])\n",
    "    for i in sample2[1:]:\n",
    "        T2.insert(i)\n",
    "        print(T2, '\\n')\n",
    "else:\n",
    "    T2 = AVLT(sample2)\n",
    "    print(T2)"
   ]
  }
 ],
 "metadata": {
  "kernelspec": {
   "display_name": "Python 3",
   "language": "python",
   "name": "python3"
  },
  "language_info": {
   "codemirror_mode": {
    "name": "ipython",
    "version": 3
   },
   "file_extension": ".py",
   "mimetype": "text/x-python",
   "name": "python",
   "nbconvert_exporter": "python",
   "pygments_lexer": "ipython3",
   "version": "3.9.1"
  }
 },
 "nbformat": 4,
 "nbformat_minor": 5
}
