{
 "cells": [
  {
   "cell_type": "markdown",
   "id": "satisfactory-motor",
   "metadata": {},
   "source": [
    "## BSTs"
   ]
  },
  {
   "cell_type": "code",
   "execution_count": 1,
   "id": "instant-medicine",
   "metadata": {},
   "outputs": [],
   "source": [
    "will_install = False"
   ]
  },
  {
   "cell_type": "code",
   "execution_count": 2,
   "id": "robust-algeria",
   "metadata": {},
   "outputs": [],
   "source": [
    "if will_install:\n",
    "    ! cd ../code/tree_package && python3 setup.py install\n",
    "    # you can always remove via pip uninstall tree\n",
    "else:\n",
    "    import sys\n",
    "    sys.path.append('../code/tree_package/')\n",
    "from tree.tree import BST"
   ]
  },
  {
   "cell_type": "code",
   "execution_count": 3,
   "id": "designed-diagram",
   "metadata": {},
   "outputs": [
    {
     "data": {
      "text/plain": [
       "                    0\n",
       "                  -1 2\n",
       "                 -3 1 3\n",
       "                       4"
      ]
     },
     "execution_count": 3,
     "metadata": {},
     "output_type": "execute_result"
    }
   ],
   "source": [
    "sample = [0,-1,2,1,3,-3,4]\n",
    "T = BST(sample)\n",
    "T"
   ]
  },
  {
   "cell_type": "code",
   "execution_count": 4,
   "id": "electronic-invite",
   "metadata": {},
   "outputs": [
    {
     "data": {
      "text/plain": [
       "                    0\n",
       "                  -1 3\n",
       "                 -3 1 4"
      ]
     },
     "execution_count": 4,
     "metadata": {},
     "output_type": "execute_result"
    }
   ],
   "source": [
    "# removing leaf\n",
    "T.delete(2)\n",
    "T"
   ]
  },
  {
   "cell_type": "code",
   "execution_count": 5,
   "id": "automotive-celebrity",
   "metadata": {},
   "outputs": [
    {
     "data": {
      "text/plain": [
       "                    3\n",
       "                   1 4\n",
       "                 -1\n",
       "                -3"
      ]
     },
     "execution_count": 5,
     "metadata": {},
     "output_type": "execute_result"
    }
   ],
   "source": [
    "# removing root\n",
    "T.delete(0) # or T.delete(T.root.value)\n",
    "T"
   ]
  },
  {
   "cell_type": "code",
   "execution_count": 6,
   "id": "three-stewart",
   "metadata": {},
   "outputs": [],
   "source": [
    "sample2 = [1024,999]\n",
    "T2 = BST(sample2)"
   ]
  },
  {
   "cell_type": "code",
   "execution_count": 7,
   "id": "mathematical-builder",
   "metadata": {},
   "outputs": [
    {
     "data": {
      "text/plain": [
       "                    3\n",
       "                   1 4\n",
       "                 -1    999\n",
       "                -3         1024"
      ]
     },
     "execution_count": 7,
     "metadata": {},
     "output_type": "execute_result"
    }
   ],
   "source": [
    "T+T2"
   ]
  },
  {
   "cell_type": "code",
   "execution_count": 8,
   "id": "young-episode",
   "metadata": {},
   "outputs": [
    {
     "data": {
      "text/plain": [
       "[-3, -1, 1, 3, 4]"
      ]
     },
     "execution_count": 8,
     "metadata": {},
     "output_type": "execute_result"
    }
   ],
   "source": [
    "g = T.traverse()\n",
    "list(g)"
   ]
  },
  {
   "cell_type": "code",
   "execution_count": 9,
   "id": "macro-desire",
   "metadata": {},
   "outputs": [
    {
     "data": {
      "text/plain": [
       "False"
      ]
     },
     "execution_count": 9,
     "metadata": {},
     "output_type": "execute_result"
    }
   ],
   "source": [
    "2 in T"
   ]
  },
  {
   "cell_type": "code",
   "execution_count": 10,
   "id": "rough-moment",
   "metadata": {},
   "outputs": [
    {
     "data": {
      "text/plain": [
       "                    3\n",
       "                   1 4\n",
       "                 -1   5\n",
       "                -3"
      ]
     },
     "execution_count": 10,
     "metadata": {},
     "output_type": "execute_result"
    }
   ],
   "source": [
    "T.insert(5)\n",
    "T"
   ]
  },
  {
   "cell_type": "code",
   "execution_count": 11,
   "id": "entire-smell",
   "metadata": {},
   "outputs": [
    {
     "data": {
      "text/plain": []
     },
     "execution_count": 11,
     "metadata": {},
     "output_type": "execute_result"
    }
   ],
   "source": [
    "# edge case: full removal and printing\n",
    "for i in T.traverse():\n",
    "    T.delete(i)\n",
    "T"
   ]
  },
  {
   "cell_type": "code",
   "execution_count": 12,
   "id": "temporal-implementation",
   "metadata": {},
   "outputs": [],
   "source": [
    "# removing from already empty root tree\n",
    "T.delete(100500)"
   ]
  },
  {
   "cell_type": "code",
   "execution_count": 13,
   "id": "instant-reality",
   "metadata": {},
   "outputs": [
    {
     "data": {
      "text/plain": [
       "                    9\n",
       "                      19"
      ]
     },
     "execution_count": 13,
     "metadata": {},
     "output_type": "execute_result"
    }
   ],
   "source": [
    "T.insert(9)\n",
    "T.insert(19)\n",
    "T"
   ]
  },
  {
   "cell_type": "code",
   "execution_count": null,
   "id": "right-wayne",
   "metadata": {},
   "outputs": [],
   "source": [
    "def left_turn(root):\n",
    "    if root.right and root.left and root.right.left and (not root.left.right):\n",
    "        r = root.right\n",
    "        t = root.right.left\n",
    "        root.right = t\n",
    "        r.left = root\n",
    "        return r\n",
    "    else:\n",
    "        return root"
   ]
  },
  {
   "cell_type": "markdown",
   "id": "thick-oxygen",
   "metadata": {},
   "source": [
    "3-30. You are consulting for a hotel that has n one-bed rooms. When a guest checks in, they ask for a room whose number is in the range `[l,h]`. Propose a data structure that supports the following data operations in the allotted time:\n",
    "- _Initialize(n)_ : Initialize the data structure for empty rooms numbered `1,2,...,n`, in `polynomial` time.\n",
    "- _Count(l,h)_ : Return the number of available rooms in `[l,h]`, in `O(logn)` time.\n",
    "- _Checkin(l, h)_ : In `O(log n)` time, return the first empty room in `[l, h]` and mark it occupied, or return `NIL` if all the rooms in `[l,h]` are occupied.\n",
    "- _Checkout(x)_ : Mark room x as unoccupied, in `O(log n)` time."
   ]
  },
  {
   "cell_type": "code",
   "execution_count": null,
   "id": "confused-tender",
   "metadata": {},
   "outputs": [],
   "source": [
    "class HotelBooker:\n",
    "    def __init__(self):\n",
    "    \n",
    "class WeightedTree\n",
    "    \"\"\"\n",
    "    In which each node knows how much total leaves it has\n",
    "    \n",
    "    \"\"\""
   ]
  }
 ],
 "metadata": {
  "kernelspec": {
   "display_name": "Python 3",
   "language": "python",
   "name": "python3"
  },
  "language_info": {
   "codemirror_mode": {
    "name": "ipython",
    "version": 3
   },
   "file_extension": ".py",
   "mimetype": "text/x-python",
   "name": "python",
   "nbconvert_exporter": "python",
   "pygments_lexer": "ipython3",
   "version": "3.9.1"
  }
 },
 "nbformat": 4,
 "nbformat_minor": 5
}
